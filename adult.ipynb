{
 "cells": [
  {
   "cell_type": "code",
   "execution_count": 1,
   "id": "684e3f3e-b9d3-4050-bc07-a2030a672734",
   "metadata": {},
   "outputs": [],
   "source": [
    "from pmlb import fetch_data\n",
    "import torch\n",
    "from torch.utils.data import TensorDataset, DataLoader, Dataset\n",
    "from sklearn.model_selection import train_test_split\n",
    "from torch.utils.data.sampler import WeightedRandomSampler\n",
    "from training import pretrain_classifier, pretrain_adversary, train_debiased\n",
    "from models import TabluarModel, MLP\n",
    "from metrics import get_fairness_metrics\n",
    "import torch.optim as optim\n",
    "import pandas as pd\n",
    "import numpy as np"
   ]
  },
  {
   "cell_type": "code",
   "execution_count": 2,
   "id": "d682cbb1-2ef0-4700-b758-fb7131437be4",
   "metadata": {},
   "outputs": [
    {
     "data": {
      "text/html": [
       "<div>\n",
       "<style scoped>\n",
       "    .dataframe tbody tr th:only-of-type {\n",
       "        vertical-align: middle;\n",
       "    }\n",
       "\n",
       "    .dataframe tbody tr th {\n",
       "        vertical-align: top;\n",
       "    }\n",
       "\n",
       "    .dataframe thead th {\n",
       "        text-align: right;\n",
       "    }\n",
       "</style>\n",
       "<table border=\"1\" class=\"dataframe\">\n",
       "  <thead>\n",
       "    <tr style=\"text-align: right;\">\n",
       "      <th></th>\n",
       "      <th>age</th>\n",
       "      <th>workclass</th>\n",
       "      <th>fnlwgt</th>\n",
       "      <th>education</th>\n",
       "      <th>education-num</th>\n",
       "      <th>marital-status</th>\n",
       "      <th>occupation</th>\n",
       "      <th>relationship</th>\n",
       "      <th>race</th>\n",
       "      <th>sex</th>\n",
       "      <th>capital-gain</th>\n",
       "      <th>capital-loss</th>\n",
       "      <th>hours-per-week</th>\n",
       "      <th>native-country</th>\n",
       "      <th>target</th>\n",
       "    </tr>\n",
       "  </thead>\n",
       "  <tbody>\n",
       "    <tr>\n",
       "      <th>0</th>\n",
       "      <td>39.0</td>\n",
       "      <td>7</td>\n",
       "      <td>77516.0</td>\n",
       "      <td>9</td>\n",
       "      <td>13.0</td>\n",
       "      <td>4</td>\n",
       "      <td>1</td>\n",
       "      <td>1</td>\n",
       "      <td>4</td>\n",
       "      <td>1</td>\n",
       "      <td>2174.0</td>\n",
       "      <td>0.0</td>\n",
       "      <td>40.0</td>\n",
       "      <td>39</td>\n",
       "      <td>1</td>\n",
       "    </tr>\n",
       "    <tr>\n",
       "      <th>1</th>\n",
       "      <td>50.0</td>\n",
       "      <td>6</td>\n",
       "      <td>83311.0</td>\n",
       "      <td>9</td>\n",
       "      <td>13.0</td>\n",
       "      <td>2</td>\n",
       "      <td>4</td>\n",
       "      <td>0</td>\n",
       "      <td>4</td>\n",
       "      <td>1</td>\n",
       "      <td>0.0</td>\n",
       "      <td>0.0</td>\n",
       "      <td>13.0</td>\n",
       "      <td>39</td>\n",
       "      <td>1</td>\n",
       "    </tr>\n",
       "    <tr>\n",
       "      <th>2</th>\n",
       "      <td>38.0</td>\n",
       "      <td>4</td>\n",
       "      <td>215646.0</td>\n",
       "      <td>11</td>\n",
       "      <td>9.0</td>\n",
       "      <td>0</td>\n",
       "      <td>6</td>\n",
       "      <td>1</td>\n",
       "      <td>4</td>\n",
       "      <td>1</td>\n",
       "      <td>0.0</td>\n",
       "      <td>0.0</td>\n",
       "      <td>40.0</td>\n",
       "      <td>39</td>\n",
       "      <td>1</td>\n",
       "    </tr>\n",
       "    <tr>\n",
       "      <th>3</th>\n",
       "      <td>53.0</td>\n",
       "      <td>4</td>\n",
       "      <td>234721.0</td>\n",
       "      <td>1</td>\n",
       "      <td>7.0</td>\n",
       "      <td>2</td>\n",
       "      <td>6</td>\n",
       "      <td>0</td>\n",
       "      <td>2</td>\n",
       "      <td>1</td>\n",
       "      <td>0.0</td>\n",
       "      <td>0.0</td>\n",
       "      <td>40.0</td>\n",
       "      <td>39</td>\n",
       "      <td>1</td>\n",
       "    </tr>\n",
       "    <tr>\n",
       "      <th>4</th>\n",
       "      <td>28.0</td>\n",
       "      <td>4</td>\n",
       "      <td>338409.0</td>\n",
       "      <td>9</td>\n",
       "      <td>13.0</td>\n",
       "      <td>2</td>\n",
       "      <td>10</td>\n",
       "      <td>5</td>\n",
       "      <td>2</td>\n",
       "      <td>0</td>\n",
       "      <td>0.0</td>\n",
       "      <td>0.0</td>\n",
       "      <td>40.0</td>\n",
       "      <td>5</td>\n",
       "      <td>1</td>\n",
       "    </tr>\n",
       "    <tr>\n",
       "      <th>...</th>\n",
       "      <td>...</td>\n",
       "      <td>...</td>\n",
       "      <td>...</td>\n",
       "      <td>...</td>\n",
       "      <td>...</td>\n",
       "      <td>...</td>\n",
       "      <td>...</td>\n",
       "      <td>...</td>\n",
       "      <td>...</td>\n",
       "      <td>...</td>\n",
       "      <td>...</td>\n",
       "      <td>...</td>\n",
       "      <td>...</td>\n",
       "      <td>...</td>\n",
       "      <td>...</td>\n",
       "    </tr>\n",
       "    <tr>\n",
       "      <th>48837</th>\n",
       "      <td>39.0</td>\n",
       "      <td>4</td>\n",
       "      <td>215419.0</td>\n",
       "      <td>9</td>\n",
       "      <td>13.0</td>\n",
       "      <td>0</td>\n",
       "      <td>10</td>\n",
       "      <td>1</td>\n",
       "      <td>4</td>\n",
       "      <td>0</td>\n",
       "      <td>0.0</td>\n",
       "      <td>0.0</td>\n",
       "      <td>36.0</td>\n",
       "      <td>39</td>\n",
       "      <td>1</td>\n",
       "    </tr>\n",
       "    <tr>\n",
       "      <th>48838</th>\n",
       "      <td>64.0</td>\n",
       "      <td>0</td>\n",
       "      <td>321403.0</td>\n",
       "      <td>11</td>\n",
       "      <td>9.0</td>\n",
       "      <td>6</td>\n",
       "      <td>0</td>\n",
       "      <td>2</td>\n",
       "      <td>2</td>\n",
       "      <td>1</td>\n",
       "      <td>0.0</td>\n",
       "      <td>0.0</td>\n",
       "      <td>40.0</td>\n",
       "      <td>39</td>\n",
       "      <td>1</td>\n",
       "    </tr>\n",
       "    <tr>\n",
       "      <th>48839</th>\n",
       "      <td>38.0</td>\n",
       "      <td>4</td>\n",
       "      <td>374983.0</td>\n",
       "      <td>9</td>\n",
       "      <td>13.0</td>\n",
       "      <td>2</td>\n",
       "      <td>10</td>\n",
       "      <td>0</td>\n",
       "      <td>4</td>\n",
       "      <td>1</td>\n",
       "      <td>0.0</td>\n",
       "      <td>0.0</td>\n",
       "      <td>50.0</td>\n",
       "      <td>39</td>\n",
       "      <td>1</td>\n",
       "    </tr>\n",
       "    <tr>\n",
       "      <th>48840</th>\n",
       "      <td>44.0</td>\n",
       "      <td>4</td>\n",
       "      <td>83891.0</td>\n",
       "      <td>9</td>\n",
       "      <td>13.0</td>\n",
       "      <td>0</td>\n",
       "      <td>1</td>\n",
       "      <td>3</td>\n",
       "      <td>1</td>\n",
       "      <td>1</td>\n",
       "      <td>5455.0</td>\n",
       "      <td>0.0</td>\n",
       "      <td>40.0</td>\n",
       "      <td>39</td>\n",
       "      <td>1</td>\n",
       "    </tr>\n",
       "    <tr>\n",
       "      <th>48841</th>\n",
       "      <td>35.0</td>\n",
       "      <td>5</td>\n",
       "      <td>182148.0</td>\n",
       "      <td>9</td>\n",
       "      <td>13.0</td>\n",
       "      <td>2</td>\n",
       "      <td>4</td>\n",
       "      <td>0</td>\n",
       "      <td>4</td>\n",
       "      <td>1</td>\n",
       "      <td>0.0</td>\n",
       "      <td>0.0</td>\n",
       "      <td>60.0</td>\n",
       "      <td>39</td>\n",
       "      <td>0</td>\n",
       "    </tr>\n",
       "  </tbody>\n",
       "</table>\n",
       "<p>48842 rows × 15 columns</p>\n",
       "</div>"
      ],
      "text/plain": [
       "        age  workclass    fnlwgt  education  education-num  marital-status  \\\n",
       "0      39.0          7   77516.0          9           13.0               4   \n",
       "1      50.0          6   83311.0          9           13.0               2   \n",
       "2      38.0          4  215646.0         11            9.0               0   \n",
       "3      53.0          4  234721.0          1            7.0               2   \n",
       "4      28.0          4  338409.0          9           13.0               2   \n",
       "...     ...        ...       ...        ...            ...             ...   \n",
       "48837  39.0          4  215419.0          9           13.0               0   \n",
       "48838  64.0          0  321403.0         11            9.0               6   \n",
       "48839  38.0          4  374983.0          9           13.0               2   \n",
       "48840  44.0          4   83891.0          9           13.0               0   \n",
       "48841  35.0          5  182148.0          9           13.0               2   \n",
       "\n",
       "       occupation  relationship  race  sex  capital-gain  capital-loss  \\\n",
       "0               1             1     4    1        2174.0           0.0   \n",
       "1               4             0     4    1           0.0           0.0   \n",
       "2               6             1     4    1           0.0           0.0   \n",
       "3               6             0     2    1           0.0           0.0   \n",
       "4              10             5     2    0           0.0           0.0   \n",
       "...           ...           ...   ...  ...           ...           ...   \n",
       "48837          10             1     4    0           0.0           0.0   \n",
       "48838           0             2     2    1           0.0           0.0   \n",
       "48839          10             0     4    1           0.0           0.0   \n",
       "48840           1             3     1    1        5455.0           0.0   \n",
       "48841           4             0     4    1           0.0           0.0   \n",
       "\n",
       "       hours-per-week  native-country  target  \n",
       "0                40.0              39       1  \n",
       "1                13.0              39       1  \n",
       "2                40.0              39       1  \n",
       "3                40.0              39       1  \n",
       "4                40.0               5       1  \n",
       "...               ...             ...     ...  \n",
       "48837            36.0              39       1  \n",
       "48838            40.0              39       1  \n",
       "48839            50.0              39       1  \n",
       "48840            40.0              39       1  \n",
       "48841            60.0              39       0  \n",
       "\n",
       "[48842 rows x 15 columns]"
      ]
     },
     "execution_count": 2,
     "metadata": {},
     "output_type": "execute_result"
    }
   ],
   "source": [
    "# Returns a pandas DataFrame\n",
    "adult_data = fetch_data('adult')\n",
    "adult_data"
   ]
  },
  {
   "cell_type": "code",
   "execution_count": 3,
   "id": "e22c9e1b-f68b-40b6-8ee4-9496feb59f70",
   "metadata": {},
   "outputs": [],
   "source": [
    "batch_size = 256\n",
    "n_classes = 2"
   ]
  },
  {
   "cell_type": "code",
   "execution_count": 4,
   "id": "d88c4664-64b7-4b4a-bc27-d25461c3a743",
   "metadata": {},
   "outputs": [],
   "source": [
    "def make_weights_for_balanced_classes(x, nclasses):                        \n",
    "    count = [0] * nclasses                                                      \n",
    "    for item in x:\n",
    "        count[item] += 1                                                     \n",
    "    weight_per_class = [0.] * nclasses                                      \n",
    "    N = float(sum(count))                                                   \n",
    "    for i in range(nclasses):                                                   \n",
    "        weight_per_class[i] = N/float(count[i])                                 \n",
    "    weight = [0] * len(x)                                              \n",
    "    for idx, val in enumerate(x):\n",
    "        weight[idx] = weight_per_class[val]                                  \n",
    "    return weight  "
   ]
  },
  {
   "cell_type": "code",
   "execution_count": 5,
   "id": "65da98fc-95ef-4cd4-ba04-01bc1288ffe8",
   "metadata": {},
   "outputs": [
    {
     "data": {
      "text/plain": [
       "([1, 3, 5, 6, 7, 8, 12],\n",
       " [[9, 3], [16, 5], [7, 2], [15, 4], [6, 2], [5, 2], [42, 11]])"
      ]
     },
     "execution_count": 5,
     "metadata": {},
     "output_type": "execute_result"
    }
   ],
   "source": [
    "x_df = adult_data.drop(columns=[\"target\", \"sex\"])\n",
    "x = x_df.values\n",
    "y = adult_data[\"target\"].values\n",
    "s = adult_data[\"sex\"].values\n",
    "cat_cols = [\"workclass\", \"education\", \"marital-status\", \"occupation\", \"relationship\", \"race\", \"native-country\"]\n",
    "embedding_sizes = [[len(x_df[ci].unique()), max(len(x_df[ci].unique())//4+1, 2)] for i,ci in enumerate(x_df.columns) if ci in cat_cols]\n",
    "cat_idx = [i for i,ci in enumerate(x_df.columns) if ci in cat_cols]\n",
    "cat_idx, embedding_sizes"
   ]
  },
  {
   "cell_type": "code",
   "execution_count": 6,
   "id": "60c6d902-61a0-4bdc-9fc8-885c29194f53",
   "metadata": {},
   "outputs": [],
   "source": [
    "x_train, x_test, y_train, y_test, s_train, s_test = train_test_split(x, y, s, test_size=0.2, random_state=1234, stratify=y)"
   ]
  },
  {
   "cell_type": "code",
   "execution_count": 7,
   "id": "f8263945-b80e-4f93-89f0-6321169bfe80",
   "metadata": {},
   "outputs": [],
   "source": [
    "ds_train = TensorDataset(torch.FloatTensor(x_train), torch.LongTensor(y_train), torch.LongTensor(s_train))\n",
    "ds_test = TensorDataset(torch.FloatTensor(x_test), torch.LongTensor(y_test), torch.LongTensor(s_test))"
   ]
  },
  {
   "cell_type": "code",
   "execution_count": 8,
   "id": "e8cd1d30-b610-4020-a325-07eaec364cab",
   "metadata": {},
   "outputs": [],
   "source": [
    "batch_size = 256\n",
    "\n",
    "# weights = make_weights_for_balanced_classes(y_train, n_classes)\n",
    "# sampler = WeightedRandomSampler(weights, len(weights))\n",
    "# train_loader = DataLoader(ds_train, batch_size=batch_size, sampler=sampler)\n",
    "\n",
    "train_loader = DataLoader(ds_train, batch_size=batch_size, shuffle=True)\n",
    "test_loader = DataLoader(ds_test, batch_size=batch_size, shuffle=False)"
   ]
  },
  {
   "cell_type": "code",
   "execution_count": 9,
   "id": "ed4ce0fe-bf67-4f66-92d6-2f6b96ceb8cc",
   "metadata": {},
   "outputs": [
    {
     "data": {
      "text/plain": [
       "tensor(0.7812)"
      ]
     },
     "execution_count": 9,
     "metadata": {},
     "output_type": "execute_result"
    }
   ],
   "source": [
    "_, y_, _ = iter(train_loader).next()\n",
    "y_.float().mean()"
   ]
  },
  {
   "cell_type": "code",
   "execution_count": 10,
   "id": "64a6c1b9-bed0-4f73-b3f4-ad72bb85a162",
   "metadata": {},
   "outputs": [],
   "source": [
    "model_clf = TabluarModel(cat_idx, x_train.shape[1], embedding_sizes, [100, 100], n_classes)"
   ]
  },
  {
   "cell_type": "code",
   "execution_count": 11,
   "id": "7d7a0fe5-61f5-434b-885e-556f7a13531e",
   "metadata": {},
   "outputs": [],
   "source": [
    "optimizer_clf = optim.Adam(model_clf.parameters(), lr=0.005)\n",
    "loss_criterion = torch.nn.CrossEntropyLoss()"
   ]
  },
  {
   "cell_type": "code",
   "execution_count": 12,
   "id": "652515fc-7710-4591-a4d3-528f1f142f0a",
   "metadata": {
    "tags": []
   },
   "outputs": [
    {
     "name": "stderr",
     "output_type": "stream",
     "text": [
      "Average Clf epoch loss: 0.24609825385162254: 100%|█████████████████████████████████████| 50/50 [01:00<00:00,  1.21s/it]\n"
     ]
    },
    {
     "name": "stdout",
     "output_type": "stream",
     "text": [
      "Average Clf batch loss:  0.27924477106995055\n"
     ]
    }
   ],
   "source": [
    "model_clf = pretrain_classifier(model_clf, optimizer_clf, train_loader, loss_criterion, epochs=50, device=\"cpu\")\n",
    "\n",
    "torch.save(model_clf, \"./saved/pretrain_classifier.pt\")\n",
    "model_clf = torch.load(\"./saved/pretrain_classifier.pt\")"
   ]
  },
  {
   "cell_type": "code",
   "execution_count": 13,
   "id": "9acc06a6-476a-41dd-9e45-05eea1437c82",
   "metadata": {},
   "outputs": [
    {
     "data": {
      "text/plain": [
       "0.8937885496378574"
      ]
     },
     "execution_count": 13,
     "metadata": {},
     "output_type": "execute_result"
    }
   ],
   "source": [
    "yh = model_clf(torch.FloatTensor(x_train))\n",
    "np.mean(yh.argmax(-1).numpy() == y_train)"
   ]
  },
  {
   "cell_type": "code",
   "execution_count": 14,
   "id": "e68f8456-8d84-4e94-9a1b-f0cf476e89ea",
   "metadata": {},
   "outputs": [
    {
     "data": {
      "text/plain": [
       "{'acc_diff': 0.09192207669343466,\n",
       " 'bacc_diff': 0.035122737775656665,\n",
       " 'AOD': 0.03512273777565664,\n",
       " 'EOD': 0.0450371005950454,\n",
       " 'SPD': 0.15967960657376368,\n",
       " 'DI': 1.2131014688342217}"
      ]
     },
     "execution_count": 14,
     "metadata": {},
     "output_type": "execute_result"
    }
   ],
   "source": [
    "metrics_tr_init = get_fairness_metrics(yh.argmax(-1).numpy(), y_train, s_train)\n",
    "metrics_tr_init"
   ]
  },
  {
   "cell_type": "code",
   "execution_count": 15,
   "id": "89872171-4f74-4238-962e-06e94cdcbe6c",
   "metadata": {},
   "outputs": [
    {
     "data": {
      "text/plain": [
       "0.8457365134609479"
      ]
     },
     "execution_count": 15,
     "metadata": {},
     "output_type": "execute_result"
    }
   ],
   "source": [
    "yh = model_clf(torch.FloatTensor(x_test))\n",
    "np.mean(yh.argmax(-1).numpy() == y_test)"
   ]
  },
  {
   "cell_type": "code",
   "execution_count": 17,
   "id": "bda6a73d-42d8-48d4-a421-b1bd03949794",
   "metadata": {},
   "outputs": [
    {
     "data": {
      "text/plain": [
       "{'acc_diff': 0.11139415385857265,\n",
       " 'bacc_diff': 0.0031709051361707985,\n",
       " 'AOD': 0.059035436757486404,\n",
       " 'EOD': 0.06220634189365715,\n",
       " 'SPD': 0.15653645201959543,\n",
       " 'DI': 1.206902023458443}"
      ]
     },
     "execution_count": 17,
     "metadata": {},
     "output_type": "execute_result"
    }
   ],
   "source": [
    "metrics_ts_init = get_fairness_metrics(yh.argmax(-1).numpy(), y_test, s_test)\n",
    "metrics_ts_init"
   ]
  },
  {
   "cell_type": "code",
   "execution_count": 18,
   "id": "83e0faaa-b7a7-40b6-bff6-e22a08b236fe",
   "metadata": {},
   "outputs": [
    {
     "data": {
      "text/plain": [
       "(0.7607299157986334, 0.7606715119254785)"
      ]
     },
     "execution_count": 18,
     "metadata": {},
     "output_type": "execute_result"
    }
   ],
   "source": [
    "y_train.mean(), y_test.mean()"
   ]
  },
  {
   "cell_type": "code",
   "execution_count": 19,
   "id": "edfe6e66-7a47-491e-ade7-965a3bb67644",
   "metadata": {},
   "outputs": [
    {
     "name": "stderr",
     "output_type": "stream",
     "text": [
      "Average Adv epoch loss: 0.5479579684781093: 100%|████████████████████████████████████| 100/100 [02:18<00:00,  1.39s/it]"
     ]
    },
    {
     "name": "stdout",
     "output_type": "stream",
     "text": [
      "Average Adv batch loss:  0.5502857513521232\n"
     ]
    },
    {
     "name": "stderr",
     "output_type": "stream",
     "text": [
      "\n"
     ]
    }
   ],
   "source": [
    "model_adv = MLP(2, [50, 50], 2)\n",
    "\n",
    "optimizer_adv = optim.Adam(model_adv.parameters(), lr=0.001)\n",
    "loss_criterion = torch.nn.CrossEntropyLoss()\n",
    "\n",
    "model_adv = pretrain_adversary(model_adv, model_clf, optimizer_adv, train_loader, loss_criterion, epochs=100, device=\"cpu\")\n",
    "\n",
    "torch.save(model_adv, \"./saved/pretrain_adv.pt\")\n",
    "model_adv = torch.load(\"./saved/pretrain_adv.pt\")"
   ]
  },
  {
   "cell_type": "code",
   "execution_count": 20,
   "id": "2d0f66fe-2d64-4de7-9817-4ce020e432ac",
   "metadata": {},
   "outputs": [
    {
     "data": {
      "text/plain": [
       "0.6816460231344047"
      ]
     },
     "execution_count": 20,
     "metadata": {},
     "output_type": "execute_result"
    }
   ],
   "source": [
    "yh = model_clf(torch.FloatTensor(x_test))\n",
    "sh = model_adv(yh)\n",
    "np.mean(sh.argmax(-1).numpy() == s_test)"
   ]
  },
  {
   "cell_type": "code",
   "execution_count": 21,
   "id": "447d01c5-27e4-435f-a31a-cdf1c5960b86",
   "metadata": {},
   "outputs": [
    {
     "data": {
      "text/plain": [
       "0.6884037570700996"
      ]
     },
     "execution_count": 21,
     "metadata": {},
     "output_type": "execute_result"
    }
   ],
   "source": [
    "yh = model_clf(torch.FloatTensor(x_train))\n",
    "sh = model_adv(yh)\n",
    "np.mean(sh.argmax(-1).numpy() == s_train)"
   ]
  },
  {
   "cell_type": "code",
   "execution_count": 22,
   "id": "9df5054c-3903-4a17-b945-6856135323aa",
   "metadata": {},
   "outputs": [
    {
     "data": {
      "text/plain": [
       "(0.6701302689836972, 0.6618896509366363)"
      ]
     },
     "execution_count": 22,
     "metadata": {},
     "output_type": "execute_result"
    }
   ],
   "source": [
    "s_train.mean(), s_test.mean()"
   ]
  },
  {
   "cell_type": "code",
   "execution_count": 23,
   "id": "e900450b-d194-4bfe-8f5b-6fb2d82bf37f",
   "metadata": {
    "tags": []
   },
   "outputs": [
    {
     "name": "stderr",
     "output_type": "stream",
     "text": [
      "Average Clf epoch loss: 0.22026156317564397: 100%|█████████████████████████████████████| 10/10 [00:18<00:00,  1.83s/it]\n"
     ]
    },
    {
     "name": "stdout",
     "output_type": "stream",
     "text": [
      "Average Clf batch loss:  0.22416872429886675\n"
     ]
    },
    {
     "name": "stderr",
     "output_type": "stream",
     "text": [
      "Average Adv epoch loss: 0.5565297038726558: 100%|██████████████████████████████████████| 10/10 [00:14<00:00,  1.46s/it]\n"
     ]
    },
    {
     "name": "stdout",
     "output_type": "stream",
     "text": [
      "Average Adv batch loss:  0.5564260836715013\n",
      "Lambda: 3\n",
      "Iteration:  0\n",
      "Adversary Mini-Batch loss:  0.5496929287910461\n",
      "Classifier Mini-Batch loss:  0.19349312782287598\n",
      "Total Mini-Batch loss:  -1.4555857181549072\n",
      "Iteration:  1\n",
      "Adversary Mini-Batch loss:  0.5906127095222473\n",
      "Classifier Mini-Batch loss:  0.20183944702148438\n",
      "Total Mini-Batch loss:  -1.5699987411499023\n",
      "Iteration:  2\n",
      "Adversary Mini-Batch loss:  0.5650848746299744\n",
      "Classifier Mini-Batch loss:  0.23251287639141083\n",
      "Total Mini-Batch loss:  -1.462741732597351\n",
      "Iteration:  3\n",
      "Adversary Mini-Batch loss:  0.6262143850326538\n",
      "Classifier Mini-Batch loss:  0.22659720480442047\n",
      "Total Mini-Batch loss:  -1.6520459651947021\n",
      "Iteration:  4\n",
      "Adversary Mini-Batch loss:  0.541017472743988\n",
      "Classifier Mini-Batch loss:  0.17696762084960938\n",
      "Total Mini-Batch loss:  -1.44608473777771\n",
      "Iteration:  5\n",
      "Adversary Mini-Batch loss:  0.5755838751792908\n",
      "Classifier Mini-Batch loss:  0.21777507662773132\n",
      "Total Mini-Batch loss:  -1.5089764595031738\n",
      "Iteration:  6\n",
      "Adversary Mini-Batch loss:  0.5607107877731323\n",
      "Classifier Mini-Batch loss:  0.23487085103988647\n",
      "Total Mini-Batch loss:  -1.4472615718841553\n",
      "Iteration:  7\n",
      "Adversary Mini-Batch loss:  0.5213630199432373\n",
      "Classifier Mini-Batch loss:  0.26687297224998474\n",
      "Total Mini-Batch loss:  -1.2972160577774048\n",
      "Iteration:  8\n",
      "Adversary Mini-Batch loss:  0.6108129620552063\n",
      "Classifier Mini-Batch loss:  0.1984424591064453\n",
      "Total Mini-Batch loss:  -1.6339964866638184\n",
      "Iteration:  9\n",
      "Adversary Mini-Batch loss:  0.5792617201805115\n",
      "Classifier Mini-Batch loss:  0.1717635840177536\n",
      "Total Mini-Batch loss:  -1.5660215616226196\n",
      "Iteration:  10\n",
      "Adversary Mini-Batch loss:  0.5720661878585815\n",
      "Classifier Mini-Batch loss:  0.20101690292358398\n",
      "Total Mini-Batch loss:  -1.5151816606521606\n",
      "Iteration:  11\n",
      "Adversary Mini-Batch loss:  0.5877431035041809\n",
      "Classifier Mini-Batch loss:  0.26023319363594055\n",
      "Total Mini-Batch loss:  -1.5029962062835693\n",
      "Iteration:  12\n",
      "Adversary Mini-Batch loss:  0.6259350180625916\n",
      "Classifier Mini-Batch loss:  0.23492416739463806\n",
      "Total Mini-Batch loss:  -1.6428807973861694\n",
      "Iteration:  13\n",
      "Adversary Mini-Batch loss:  0.5496254563331604\n",
      "Classifier Mini-Batch loss:  0.23954357206821442\n",
      "Total Mini-Batch loss:  -1.4093328714370728\n",
      "Iteration:  14\n",
      "Adversary Mini-Batch loss:  0.5450717806816101\n",
      "Classifier Mini-Batch loss:  0.24053055047988892\n",
      "Total Mini-Batch loss:  -1.3946847915649414\n",
      "Iteration:  15\n",
      "Adversary Mini-Batch loss:  0.5556074976921082\n",
      "Classifier Mini-Batch loss:  0.19210392236709595\n",
      "Total Mini-Batch loss:  -1.4747185707092285\n",
      "Iteration:  16\n",
      "Adversary Mini-Batch loss:  0.6088690757751465\n",
      "Classifier Mini-Batch loss:  0.2294146567583084\n",
      "Total Mini-Batch loss:  -1.5971925258636475\n",
      "Iteration:  17\n",
      "Adversary Mini-Batch loss:  0.6037170886993408\n",
      "Classifier Mini-Batch loss:  0.19846509397029877\n",
      "Total Mini-Batch loss:  -1.6126861572265625\n",
      "Iteration:  18\n",
      "Adversary Mini-Batch loss:  0.595134973526001\n",
      "Classifier Mini-Batch loss:  0.23638293147087097\n",
      "Total Mini-Batch loss:  -1.5490219593048096\n",
      "Iteration:  19\n",
      "Adversary Mini-Batch loss:  0.6042808890342712\n",
      "Classifier Mini-Batch loss:  0.21290677785873413\n",
      "Total Mini-Batch loss:  -1.59993577003479\n",
      "Iteration:  20\n",
      "Adversary Mini-Batch loss:  0.6022483110427856\n",
      "Classifier Mini-Batch loss:  0.2882808744907379\n",
      "Total Mini-Batch loss:  -1.5184640884399414\n",
      "Iteration:  21\n",
      "Adversary Mini-Batch loss:  0.5966542363166809\n",
      "Classifier Mini-Batch loss:  0.267478346824646\n",
      "Total Mini-Batch loss:  -1.5224844217300415\n",
      "Iteration:  22\n",
      "Adversary Mini-Batch loss:  0.6031770706176758\n",
      "Classifier Mini-Batch loss:  0.2179332673549652\n",
      "Total Mini-Batch loss:  -1.5915979146957397\n",
      "Iteration:  23\n",
      "Adversary Mini-Batch loss:  0.5824567079544067\n",
      "Classifier Mini-Batch loss:  0.26944267749786377\n",
      "Total Mini-Batch loss:  -1.4779274463653564\n",
      "Iteration:  24\n",
      "Adversary Mini-Batch loss:  0.5632115602493286\n",
      "Classifier Mini-Batch loss:  0.23874564468860626\n",
      "Total Mini-Batch loss:  -1.450888991355896\n",
      "Iteration:  25\n",
      "Adversary Mini-Batch loss:  0.6357916593551636\n",
      "Classifier Mini-Batch loss:  0.27163347601890564\n",
      "Total Mini-Batch loss:  -1.6357414722442627\n",
      "Iteration:  26\n",
      "Adversary Mini-Batch loss:  0.6394991874694824\n",
      "Classifier Mini-Batch loss:  0.27195897698402405\n",
      "Total Mini-Batch loss:  -1.6465386152267456\n",
      "Iteration:  27\n",
      "Adversary Mini-Batch loss:  0.6142828464508057\n",
      "Classifier Mini-Batch loss:  0.18604661524295807\n",
      "Total Mini-Batch loss:  -1.6568019390106201\n",
      "Iteration:  28\n",
      "Adversary Mini-Batch loss:  0.6033212542533875\n",
      "Classifier Mini-Batch loss:  0.26243582367897034\n",
      "Total Mini-Batch loss:  -1.5475279092788696\n",
      "Iteration:  29\n",
      "Adversary Mini-Batch loss:  0.6105213165283203\n",
      "Classifier Mini-Batch loss:  0.26457083225250244\n",
      "Total Mini-Batch loss:  -1.5669931173324585\n",
      "Iteration:  30\n",
      "Adversary Mini-Batch loss:  0.6207025647163391\n",
      "Classifier Mini-Batch loss:  0.2573472261428833\n",
      "Total Mini-Batch loss:  -1.6047605276107788\n",
      "Iteration:  31\n",
      "Adversary Mini-Batch loss:  0.6522520184516907\n",
      "Classifier Mini-Batch loss:  0.2417765110731125\n",
      "Total Mini-Batch loss:  -1.714979648590088\n",
      "Iteration:  32\n",
      "Adversary Mini-Batch loss:  0.6060835719108582\n",
      "Classifier Mini-Batch loss:  0.2545080780982971\n",
      "Total Mini-Batch loss:  -1.5637426376342773\n",
      "Iteration:  33\n",
      "Adversary Mini-Batch loss:  0.635263204574585\n",
      "Classifier Mini-Batch loss:  0.16670216619968414\n",
      "Total Mini-Batch loss:  -1.739087462425232\n",
      "Iteration:  34\n",
      "Adversary Mini-Batch loss:  0.6361501812934875\n",
      "Classifier Mini-Batch loss:  0.28643205761909485\n",
      "Total Mini-Batch loss:  -1.622018575668335\n",
      "Iteration:  35\n",
      "Adversary Mini-Batch loss:  0.6105469465255737\n",
      "Classifier Mini-Batch loss:  0.26315465569496155\n",
      "Total Mini-Batch loss:  -1.568486213684082\n",
      "Iteration:  36\n",
      "Adversary Mini-Batch loss:  0.6465185880661011\n",
      "Classifier Mini-Batch loss:  0.2510097622871399\n",
      "Total Mini-Batch loss:  -1.6885459423065186\n",
      "Iteration:  37\n",
      "Adversary Mini-Batch loss:  0.5969821214675903\n",
      "Classifier Mini-Batch loss:  0.18953771889209747\n",
      "Total Mini-Batch loss:  -1.60140860080719\n",
      "Iteration:  38\n",
      "Adversary Mini-Batch loss:  0.6095927357673645\n",
      "Classifier Mini-Batch loss:  0.21851782500743866\n",
      "Total Mini-Batch loss:  -1.6102604866027832\n",
      "Iteration:  39\n",
      "Adversary Mini-Batch loss:  0.6229740977287292\n",
      "Classifier Mini-Batch loss:  0.25092411041259766\n",
      "Total Mini-Batch loss:  -1.6179981231689453\n",
      "Iteration:  40\n",
      "Adversary Mini-Batch loss:  0.6130279302597046\n",
      "Classifier Mini-Batch loss:  0.24925468862056732\n",
      "Total Mini-Batch loss:  -1.5898290872573853\n",
      "Iteration:  41\n",
      "Adversary Mini-Batch loss:  0.6148596405982971\n",
      "Classifier Mini-Batch loss:  0.3131917417049408\n",
      "Total Mini-Batch loss:  -1.531387209892273\n",
      "Iteration:  42\n",
      "Adversary Mini-Batch loss:  0.5985620617866516\n",
      "Classifier Mini-Batch loss:  0.25765934586524963\n",
      "Total Mini-Batch loss:  -1.5380269289016724\n",
      "Iteration:  43\n",
      "Adversary Mini-Batch loss:  0.6290289163589478\n",
      "Classifier Mini-Batch loss:  0.2178504914045334\n",
      "Total Mini-Batch loss:  -1.6692363023757935\n",
      "Iteration:  44\n",
      "Adversary Mini-Batch loss:  0.6177295446395874\n",
      "Classifier Mini-Batch loss:  0.31141793727874756\n",
      "Total Mini-Batch loss:  -1.5417706966400146\n",
      "Iteration:  45\n",
      "Adversary Mini-Batch loss:  0.6092885136604309\n",
      "Classifier Mini-Batch loss:  0.37058955430984497\n",
      "Total Mini-Batch loss:  -1.4572761058807373\n",
      "Iteration:  46\n",
      "Adversary Mini-Batch loss:  0.6273028254508972\n",
      "Classifier Mini-Batch loss:  0.2823343575000763\n",
      "Total Mini-Batch loss:  -1.599574089050293\n",
      "Iteration:  47\n",
      "Adversary Mini-Batch loss:  0.6157969236373901\n",
      "Classifier Mini-Batch loss:  0.24324452877044678\n",
      "Total Mini-Batch loss:  -1.6041462421417236\n",
      "Iteration:  48\n",
      "Adversary Mini-Batch loss:  0.6107457280158997\n",
      "Classifier Mini-Batch loss:  0.27495965361595154\n",
      "Total Mini-Batch loss:  -1.5572775602340698\n",
      "Iteration:  49\n",
      "Adversary Mini-Batch loss:  0.6186539530754089\n",
      "Classifier Mini-Batch loss:  0.2500768005847931\n",
      "Total Mini-Batch loss:  -1.6058850288391113\n"
     ]
    }
   ],
   "source": [
    "model_clf, model_adv = train_debiased(model_clf, model_adv, train_loader, 3, 50, 10, 10, \"cpu\")"
   ]
  },
  {
   "cell_type": "code",
   "execution_count": 24,
   "id": "86bbc3e3-ca50-4817-9277-1d2752145883",
   "metadata": {},
   "outputs": [
    {
     "data": {
      "text/plain": [
       "0.8881324699920662"
      ]
     },
     "execution_count": 24,
     "metadata": {},
     "output_type": "execute_result"
    }
   ],
   "source": [
    "yh = model_clf(torch.FloatTensor(x_train))\n",
    "np.mean(yh.argmax(-1).numpy() == y_train)"
   ]
  },
  {
   "cell_type": "code",
   "execution_count": 25,
   "id": "17d4cf8f-795f-4a6a-adf2-158607e0d5d3",
   "metadata": {},
   "outputs": [
    {
     "data": {
      "text/plain": [
       "{'acc_diff': 0.07755431598060358,\n",
       " 'bacc_diff': 0.08149045682730893,\n",
       " 'AOD': 0.08149045682730893,\n",
       " 'EOD': 8.162742399620004e-05,\n",
       " 'SPD': 0.10006688996983981,\n",
       " 'DI': 1.1295821684950684}"
      ]
     },
     "execution_count": 25,
     "metadata": {},
     "output_type": "execute_result"
    }
   ],
   "source": [
    "metrics_tr_fin = get_fairness_metrics(yh.argmax(-1).numpy(), y_train, s_train)\n",
    "metrics_tr_fin"
   ]
  },
  {
   "cell_type": "code",
   "execution_count": 26,
   "id": "f7199355-6d27-48f6-957b-1d70f7d59803",
   "metadata": {},
   "outputs": [
    {
     "data": {
      "text/plain": [
       "0.8298699969290613"
      ]
     },
     "execution_count": 26,
     "metadata": {},
     "output_type": "execute_result"
    }
   ],
   "source": [
    "yh = model_clf(torch.FloatTensor(x_test))\n",
    "np.mean(yh.argmax(-1).numpy() == y_test)"
   ]
  },
  {
   "cell_type": "code",
   "execution_count": 27,
   "id": "88653b08-da30-41ff-9a86-eef086efb2b0",
   "metadata": {},
   "outputs": [
    {
     "data": {
      "text/plain": [
       "{'acc_diff': 0.09648583114695097,\n",
       " 'bacc_diff': 0.04357253833417085,\n",
       " 'AOD': 0.043572538334170935,\n",
       " 'EOD': 0.014833617734509752,\n",
       " 'SPD': 0.09093280869522302,\n",
       " 'DI': 1.11647613728671}"
      ]
     },
     "execution_count": 27,
     "metadata": {},
     "output_type": "execute_result"
    }
   ],
   "source": [
    "metrics_ts_fin = get_fairness_metrics(yh.argmax(-1).numpy(), y_test, s_test)\n",
    "metrics_ts_fin"
   ]
  },
  {
   "cell_type": "code",
   "execution_count": 41,
   "id": "8e26c354-bd8f-4a68-a802-944e4015e442",
   "metadata": {},
   "outputs": [
    {
     "data": {
      "text/plain": [
       "<AxesSubplot:>"
      ]
     },
     "execution_count": 41,
     "metadata": {},
     "output_type": "execute_result"
    },
    {
     "data": {
      "image/png": "[encoded data removed]",
      "text/plain": [
       "<Figure size 432x288 with 1 Axes>"
      ]
     },
     "metadata": {
      "needs_background": "light"
     },
     "output_type": "display_data"
    }
   ],
   "source": [
    "df = pd.DataFrame({k:[v] for k,v in metrics_ts_init.items()}, index=[\"Init\"])\n",
    "df = df.append(pd.DataFrame({k:[v] for k,v in metrics_ts_fin.items()}, index=[\"Updated\"]))\n",
    "df.T.plot.bar()"
   ]
  }
 ],
 "metadata": {
  "kernelspec": {
   "display_name": "Python 3 (ipykernel)",
   "language": "python",
   "name": "python3"
  },
  "language_info": {
   "codemirror_mode": {
    "name": "ipython",
    "version": 3
   },
   "file_extension": ".py",
   "mimetype": "text/x-python",
   "name": "python",
   "nbconvert_exporter": "python",
   "pygments_lexer": "ipython3",
   "version": "3.8.8"
  }
 },
 "nbformat": 4,
 "nbformat_minor": 5
}
